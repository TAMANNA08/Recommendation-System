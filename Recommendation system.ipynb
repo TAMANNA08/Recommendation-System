{
 "cells": [
  {
   "cell_type": "markdown",
   "metadata": {
    "toc": true
   },
   "source": [
    "<h1>Table of Contents<span class=\"tocSkip\"></span></h1>\n",
    "<div class=\"toc\"><ul class=\"toc-item\"></ul></div>"
   ]
  },
  {
   "cell_type": "code",
   "execution_count": 68,
   "metadata": {},
   "outputs": [
    {
     "data": {
      "text/html": [
       "<div>\n",
       "<style scoped>\n",
       "    .dataframe tbody tr th:only-of-type {\n",
       "        vertical-align: middle;\n",
       "    }\n",
       "\n",
       "    .dataframe tbody tr th {\n",
       "        vertical-align: top;\n",
       "    }\n",
       "\n",
       "    .dataframe thead th {\n",
       "        text-align: right;\n",
       "    }\n",
       "</style>\n",
       "<table border=\"1\" class=\"dataframe\">\n",
       "  <thead>\n",
       "    <tr style=\"text-align: right;\">\n",
       "      <th></th>\n",
       "      <th>title</th>\n",
       "      <th>director</th>\n",
       "      <th>cast</th>\n",
       "      <th>listed_in</th>\n",
       "      <th>description</th>\n",
       "    </tr>\n",
       "  </thead>\n",
       "  <tbody>\n",
       "    <tr>\n",
       "      <th>0</th>\n",
       "      <td>Norm of the North: King Sized Adventure</td>\n",
       "      <td>Richard Finn, Tim Maltby</td>\n",
       "      <td>Alan Marriott, Andrew Toth, Brian Dobson, Cole...</td>\n",
       "      <td>Children &amp; Family Movies, Comedies</td>\n",
       "      <td>Before planning an awesome wedding for his gra...</td>\n",
       "    </tr>\n",
       "    <tr>\n",
       "      <th>1</th>\n",
       "      <td>Jandino: Whatever it Takes</td>\n",
       "      <td>NaN</td>\n",
       "      <td>Jandino Asporaat</td>\n",
       "      <td>Stand-Up Comedy</td>\n",
       "      <td>Jandino Asporaat riffs on the challenges of ra...</td>\n",
       "    </tr>\n",
       "    <tr>\n",
       "      <th>2</th>\n",
       "      <td>Transformers Prime</td>\n",
       "      <td>NaN</td>\n",
       "      <td>Peter Cullen, Sumalee Montano, Frank Welker, J...</td>\n",
       "      <td>Kids' TV</td>\n",
       "      <td>With the help of three human allies, the Autob...</td>\n",
       "    </tr>\n",
       "    <tr>\n",
       "      <th>3</th>\n",
       "      <td>Transformers: Robots in Disguise</td>\n",
       "      <td>NaN</td>\n",
       "      <td>Will Friedle, Darren Criss, Constance Zimmer, ...</td>\n",
       "      <td>Kids' TV</td>\n",
       "      <td>When a prison ship crash unleashes hundreds of...</td>\n",
       "    </tr>\n",
       "    <tr>\n",
       "      <th>4</th>\n",
       "      <td>#realityhigh</td>\n",
       "      <td>Fernando Lebrija</td>\n",
       "      <td>Nesta Cooper, Kate Walsh, John Michael Higgins...</td>\n",
       "      <td>Comedies</td>\n",
       "      <td>When nerdy high schooler Dani finally attracts...</td>\n",
       "    </tr>\n",
       "  </tbody>\n",
       "</table>\n",
       "</div>"
      ],
      "text/plain": [
       "                                     title                  director  \\\n",
       "0  Norm of the North: King Sized Adventure  Richard Finn, Tim Maltby   \n",
       "1               Jandino: Whatever it Takes                       NaN   \n",
       "2                       Transformers Prime                       NaN   \n",
       "3         Transformers: Robots in Disguise                       NaN   \n",
       "4                             #realityhigh          Fernando Lebrija   \n",
       "\n",
       "                                                cast  \\\n",
       "0  Alan Marriott, Andrew Toth, Brian Dobson, Cole...   \n",
       "1                                   Jandino Asporaat   \n",
       "2  Peter Cullen, Sumalee Montano, Frank Welker, J...   \n",
       "3  Will Friedle, Darren Criss, Constance Zimmer, ...   \n",
       "4  Nesta Cooper, Kate Walsh, John Michael Higgins...   \n",
       "\n",
       "                            listed_in  \\\n",
       "0  Children & Family Movies, Comedies   \n",
       "1                     Stand-Up Comedy   \n",
       "2                            Kids' TV   \n",
       "3                            Kids' TV   \n",
       "4                            Comedies   \n",
       "\n",
       "                                         description  \n",
       "0  Before planning an awesome wedding for his gra...  \n",
       "1  Jandino Asporaat riffs on the challenges of ra...  \n",
       "2  With the help of three human allies, the Autob...  \n",
       "3  When a prison ship crash unleashes hundreds of...  \n",
       "4  When nerdy high schooler Dani finally attracts...  "
      ]
     },
     "execution_count": 68,
     "metadata": {},
     "output_type": "execute_result"
    }
   ],
   "source": [
    "import pandas as pd\n",
    "from rake_nltk import Rake\n",
    "import numpy as np\n",
    "from sklearn.metrics.pairwise import cosine_similarity\n",
    "from sklearn.feature_extraction.text import CountVectorizer\n",
    "\n",
    "df = pd.read_csv(r\"C:\\\\Users\\\\Tamanna Kawatra\\\\OneDrive\\\\Desktop\\\\netflix_titles.csv\")\n",
    "new_df = df[['title','director','cast', 'listed_in','description']]\n",
    "new_df.head()"
   ]
  },
  {
   "cell_type": "code",
   "execution_count": 69,
   "metadata": {},
   "outputs": [
    {
     "name": "stderr",
     "output_type": "stream",
     "text": [
      "C:\\Users\\Tamanna Kawatra\\Anaconda3\\envs\\buan6341_2020\\lib\\site-packages\\ipykernel_launcher.py:2: SettingWithCopyWarning: \n",
      "A value is trying to be set on a copy of a slice from a DataFrame.\n",
      "Try using .loc[row_indexer,col_indexer] = value instead\n",
      "\n",
      "See the caveats in the documentation: http://pandas.pydata.org/pandas-docs/stable/user_guide/indexing.html#returning-a-view-versus-a-copy\n",
      "  \n",
      "C:\\Users\\Tamanna Kawatra\\Anaconda3\\envs\\buan6341_2020\\lib\\site-packages\\pandas\\core\\frame.py:4117: SettingWithCopyWarning: \n",
      "A value is trying to be set on a copy of a slice from a DataFrame\n",
      "\n",
      "See the caveats in the documentation: http://pandas.pydata.org/pandas-docs/stable/user_guide/indexing.html#returning-a-view-versus-a-copy\n",
      "  errors=errors,\n"
     ]
    },
    {
     "data": {
      "text/plain": [
       "(6234, 5)"
      ]
     },
     "execution_count": 69,
     "metadata": {},
     "output_type": "execute_result"
    }
   ],
   "source": [
    "# initializing the new column\n",
    "new_df['Key_words'] = \"\"\n",
    "new_df.head()\n",
    "\n",
    "for index, row in new_df.iterrows():\n",
    "    plot = row['description']\n",
    "    \n",
    "    # instantiating Rake, by default it uses english stopwords from NLTK\n",
    "    # and discards all puntuation characters as well\n",
    "    r = Rake()\n",
    "\n",
    "    # extracting the words by passing the text\n",
    "    r.extract_keywords_from_text(plot)\n",
    "\n",
    "    # getting the dictionary whith key words as keys and their scores as values\n",
    "    key_words_dict_scores = r.get_word_degrees()\n",
    "    \n",
    "    # assigning the key words to the new column for the corresponding movie\n",
    "    row['Key_words'] = list(key_words_dict_scores.keys())\n",
    "\n",
    "\n",
    "\n",
    "# dropping the Plot column\n",
    "new_df.drop(columns = ['description'], inplace = True)\n",
    "new_df.head()\n",
    "new_df.shape"
   ]
  },
  {
   "cell_type": "code",
   "execution_count": 70,
   "metadata": {},
   "outputs": [
    {
     "name": "stderr",
     "output_type": "stream",
     "text": [
      "C:\\Users\\Tamanna Kawatra\\Anaconda3\\envs\\buan6341_2020\\lib\\site-packages\\ipykernel_launcher.py:2: SettingWithCopyWarning: \n",
      "A value is trying to be set on a copy of a slice from a DataFrame\n",
      "\n",
      "See the caveats in the documentation: http://pandas.pydata.org/pandas-docs/stable/user_guide/indexing.html#returning-a-view-versus-a-copy\n",
      "  \n",
      "C:\\Users\\Tamanna Kawatra\\Anaconda3\\envs\\buan6341_2020\\lib\\site-packages\\pandas\\core\\frame.py:4117: SettingWithCopyWarning: \n",
      "A value is trying to be set on a copy of a slice from a DataFrame\n",
      "\n",
      "See the caveats in the documentation: http://pandas.pydata.org/pandas-docs/stable/user_guide/indexing.html#returning-a-view-versus-a-copy\n",
      "  errors=errors,\n",
      "C:\\Users\\Tamanna Kawatra\\Anaconda3\\envs\\buan6341_2020\\lib\\site-packages\\ipykernel_launcher.py:16: SettingWithCopyWarning: \n",
      "A value is trying to be set on a copy of a slice from a DataFrame.\n",
      "Try using .loc[row_indexer,col_indexer] = value instead\n",
      "\n",
      "See the caveats in the documentation: http://pandas.pydata.org/pandas-docs/stable/user_guide/indexing.html#returning-a-view-versus-a-copy\n",
      "  app.launch_new_instance()\n",
      "C:\\Users\\Tamanna Kawatra\\Anaconda3\\envs\\buan6341_2020\\lib\\site-packages\\ipykernel_launcher.py:19: SettingWithCopyWarning: \n",
      "A value is trying to be set on a copy of a slice from a DataFrame.\n",
      "Try using .loc[row_indexer,col_indexer] = value instead\n",
      "\n",
      "See the caveats in the documentation: http://pandas.pydata.org/pandas-docs/stable/user_guide/indexing.html#returning-a-view-versus-a-copy\n",
      "C:\\Users\\Tamanna Kawatra\\Anaconda3\\envs\\buan6341_2020\\lib\\site-packages\\ipykernel_launcher.py:21: SettingWithCopyWarning: \n",
      "A value is trying to be set on a copy of a slice from a DataFrame.\n",
      "Try using .loc[row_indexer,col_indexer] = value instead\n",
      "\n",
      "See the caveats in the documentation: http://pandas.pydata.org/pandas-docs/stable/user_guide/indexing.html#returning-a-view-versus-a-copy\n"
     ]
    }
   ],
   "source": [
    " #REMOVE NaN VALUES AND EMPTY STRINGS:\n",
    "new_df.dropna(inplace=True)\n",
    "\n",
    "blanks = []  # start with an empty list\n",
    "\n",
    "col=['title','director','cast','listed_in','description']\n",
    "for i,col in new_df.iterrows():  # iterate over the DataFrame\n",
    "    if type(col)==str:            # avoid NaN values\n",
    "        if col.isspace():         # test 'review' for whitespace\n",
    "            blanks.append(i)     # add matching index numbers to the list\n",
    "\n",
    "new_df.drop(blanks, inplace=True)\n",
    "\n",
    "\n",
    "# discarding the commas between the actors' full names and getting only the first three names\n",
    "new_df['cast'] = new_df['cast'].map(lambda x: x.split(',')[:3])\n",
    "\n",
    "# putting the genres in a list of words\n",
    "new_df['listed_in'] = new_df['listed_in'].map(lambda x: x.lower().split(','))\n",
    "\n",
    "new_df['director'] = new_df['director'].map(lambda x: x.split(' '))\n",
    "\n",
    "# merging together first and last name for each actor and director, so it's considered as one word \n",
    "# and there is no mix up between people sharing a first name\n",
    "for index, row in new_df.iterrows():\n",
    "    row['cast'] = [x.lower().replace(' ','') for x in row['cast']]\n",
    "    row['director'] = ''.join(row['director']).lower()\n"
   ]
  },
  {
   "cell_type": "code",
   "execution_count": 71,
   "metadata": {},
   "outputs": [
    {
     "data": {
      "text/html": [
       "<div>\n",
       "<style scoped>\n",
       "    .dataframe tbody tr th:only-of-type {\n",
       "        vertical-align: middle;\n",
       "    }\n",
       "\n",
       "    .dataframe tbody tr th {\n",
       "        vertical-align: top;\n",
       "    }\n",
       "\n",
       "    .dataframe thead th {\n",
       "        text-align: right;\n",
       "    }\n",
       "</style>\n",
       "<table border=\"1\" class=\"dataframe\">\n",
       "  <thead>\n",
       "    <tr style=\"text-align: right;\">\n",
       "      <th></th>\n",
       "      <th>director</th>\n",
       "      <th>cast</th>\n",
       "      <th>listed_in</th>\n",
       "      <th>Key_words</th>\n",
       "    </tr>\n",
       "    <tr>\n",
       "      <th>title</th>\n",
       "      <th></th>\n",
       "      <th></th>\n",
       "      <th></th>\n",
       "      <th></th>\n",
       "    </tr>\n",
       "  </thead>\n",
       "  <tbody>\n",
       "    <tr>\n",
       "      <th>Norm of the North: King Sized Adventure</th>\n",
       "      <td>richardfinn,timmaltby</td>\n",
       "      <td>[alanmarriott, andrewtoth, briandobson]</td>\n",
       "      <td>[children &amp; family movies,  comedies]</td>\n",
       "      <td>[awesome, wedding, polar, bear, king, must, ta...</td>\n",
       "    </tr>\n",
       "    <tr>\n",
       "      <th>#realityhigh</th>\n",
       "      <td>fernandolebrija</td>\n",
       "      <td>[nestacooper, katewalsh, johnmichaelhiggins]</td>\n",
       "      <td>[comedies]</td>\n",
       "      <td>[cross, hairs, longtime, crush, nerdy, high, s...</td>\n",
       "    </tr>\n",
       "    <tr>\n",
       "      <th>Automata</th>\n",
       "      <td>gabeibáñez</td>\n",
       "      <td>[antoniobanderas, dylanmcdermott, melaniegriff...</td>\n",
       "      <td>[international movies,  sci-fi &amp; fantasy,  thr...</td>\n",
       "      <td>[discovers, global, conspiracy, robot, killed,...</td>\n",
       "    </tr>\n",
       "    <tr>\n",
       "      <th>Fabrizio Copano: Solo pienso en mi</th>\n",
       "      <td>rodrigotoro,franciscoschultz</td>\n",
       "      <td>[fabriziocopano]</td>\n",
       "      <td>[stand-up comedy]</td>\n",
       "      <td>[reflecting, set, sperm, banks, stand, fabrizi...</td>\n",
       "    </tr>\n",
       "    <tr>\n",
       "      <th>Good People</th>\n",
       "      <td>henrikrubengenz</td>\n",
       "      <td>[jamesfranco, katehudson, tomwilkinson]</td>\n",
       "      <td>[action &amp; adventure,  thrillers]</td>\n",
       "      <td>[stash, recently, murdered, apartment, struggl...</td>\n",
       "    </tr>\n",
       "  </tbody>\n",
       "</table>\n",
       "</div>"
      ],
      "text/plain": [
       "                                                             director  \\\n",
       "title                                                                   \n",
       "Norm of the North: King Sized Adventure         richardfinn,timmaltby   \n",
       "#realityhigh                                          fernandolebrija   \n",
       "Automata                                                   gabeibáñez   \n",
       "Fabrizio Copano: Solo pienso en mi       rodrigotoro,franciscoschultz   \n",
       "Good People                                           henrikrubengenz   \n",
       "\n",
       "                                                                                      cast  \\\n",
       "title                                                                                        \n",
       "Norm of the North: King Sized Adventure            [alanmarriott, andrewtoth, briandobson]   \n",
       "#realityhigh                                  [nestacooper, katewalsh, johnmichaelhiggins]   \n",
       "Automata                                 [antoniobanderas, dylanmcdermott, melaniegriff...   \n",
       "Fabrizio Copano: Solo pienso en mi                                        [fabriziocopano]   \n",
       "Good People                                        [jamesfranco, katehudson, tomwilkinson]   \n",
       "\n",
       "                                                                                 listed_in  \\\n",
       "title                                                                                        \n",
       "Norm of the North: King Sized Adventure              [children & family movies,  comedies]   \n",
       "#realityhigh                                                                    [comedies]   \n",
       "Automata                                 [international movies,  sci-fi & fantasy,  thr...   \n",
       "Fabrizio Copano: Solo pienso en mi                                       [stand-up comedy]   \n",
       "Good People                                               [action & adventure,  thrillers]   \n",
       "\n",
       "                                                                                 Key_words  \n",
       "title                                                                                       \n",
       "Norm of the North: King Sized Adventure  [awesome, wedding, polar, bear, king, must, ta...  \n",
       "#realityhigh                             [cross, hairs, longtime, crush, nerdy, high, s...  \n",
       "Automata                                 [discovers, global, conspiracy, robot, killed,...  \n",
       "Fabrizio Copano: Solo pienso en mi       [reflecting, set, sperm, banks, stand, fabrizi...  \n",
       "Good People                              [stash, recently, murdered, apartment, struggl...  "
      ]
     },
     "execution_count": 71,
     "metadata": {},
     "output_type": "execute_result"
    }
   ],
   "source": [
    "new_df.set_index('title', inplace = True)\n",
    "new_df.head()"
   ]
  },
  {
   "cell_type": "code",
   "execution_count": 72,
   "metadata": {},
   "outputs": [
    {
     "name": "stderr",
     "output_type": "stream",
     "text": [
      "C:\\Users\\Tamanna Kawatra\\Anaconda3\\envs\\buan6341_2020\\lib\\site-packages\\ipykernel_launcher.py:1: SettingWithCopyWarning: \n",
      "A value is trying to be set on a copy of a slice from a DataFrame.\n",
      "Try using .loc[row_indexer,col_indexer] = value instead\n",
      "\n",
      "See the caveats in the documentation: http://pandas.pydata.org/pandas-docs/stable/user_guide/indexing.html#returning-a-view-versus-a-copy\n",
      "  \"\"\"Entry point for launching an IPython kernel.\n"
     ]
    },
    {
     "data": {
      "text/html": [
       "<div>\n",
       "<style scoped>\n",
       "    .dataframe tbody tr th:only-of-type {\n",
       "        vertical-align: middle;\n",
       "    }\n",
       "\n",
       "    .dataframe tbody tr th {\n",
       "        vertical-align: top;\n",
       "    }\n",
       "\n",
       "    .dataframe thead th {\n",
       "        text-align: right;\n",
       "    }\n",
       "</style>\n",
       "<table border=\"1\" class=\"dataframe\">\n",
       "  <thead>\n",
       "    <tr style=\"text-align: right;\">\n",
       "      <th></th>\n",
       "      <th>director</th>\n",
       "      <th>cast</th>\n",
       "      <th>listed_in</th>\n",
       "      <th>Key_words</th>\n",
       "      <th>bag_of_words</th>\n",
       "    </tr>\n",
       "    <tr>\n",
       "      <th>title</th>\n",
       "      <th></th>\n",
       "      <th></th>\n",
       "      <th></th>\n",
       "      <th></th>\n",
       "      <th></th>\n",
       "    </tr>\n",
       "  </thead>\n",
       "  <tbody>\n",
       "    <tr>\n",
       "      <th>Norm of the North: King Sized Adventure</th>\n",
       "      <td>richardfinn,timmaltby</td>\n",
       "      <td>[alanmarriott, andrewtoth, briandobson]</td>\n",
       "      <td>[children &amp; family movies,  comedies]</td>\n",
       "      <td>[awesome, wedding, polar, bear, king, must, ta...</td>\n",
       "      <td>richardfinn,timmaltby alanmarriott andrewtoth ...</td>\n",
       "    </tr>\n",
       "    <tr>\n",
       "      <th>#realityhigh</th>\n",
       "      <td>fernandolebrija</td>\n",
       "      <td>[nestacooper, katewalsh, johnmichaelhiggins]</td>\n",
       "      <td>[comedies]</td>\n",
       "      <td>[cross, hairs, longtime, crush, nerdy, high, s...</td>\n",
       "      <td>fernandolebrija nestacooper katewalsh johnmich...</td>\n",
       "    </tr>\n",
       "    <tr>\n",
       "      <th>Automata</th>\n",
       "      <td>gabeibáñez</td>\n",
       "      <td>[antoniobanderas, dylanmcdermott, melaniegriff...</td>\n",
       "      <td>[international movies,  sci-fi &amp; fantasy,  thr...</td>\n",
       "      <td>[discovers, global, conspiracy, robot, killed,...</td>\n",
       "      <td>gabeibáñez antoniobanderas dylanmcdermott mela...</td>\n",
       "    </tr>\n",
       "    <tr>\n",
       "      <th>Fabrizio Copano: Solo pienso en mi</th>\n",
       "      <td>rodrigotoro,franciscoschultz</td>\n",
       "      <td>[fabriziocopano]</td>\n",
       "      <td>[stand-up comedy]</td>\n",
       "      <td>[reflecting, set, sperm, banks, stand, fabrizi...</td>\n",
       "      <td>rodrigotoro,franciscoschultz fabriziocopano st...</td>\n",
       "    </tr>\n",
       "    <tr>\n",
       "      <th>Good People</th>\n",
       "      <td>henrikrubengenz</td>\n",
       "      <td>[jamesfranco, katehudson, tomwilkinson]</td>\n",
       "      <td>[action &amp; adventure,  thrillers]</td>\n",
       "      <td>[stash, recently, murdered, apartment, struggl...</td>\n",
       "      <td>henrikrubengenz jamesfranco katehudson tomwilk...</td>\n",
       "    </tr>\n",
       "  </tbody>\n",
       "</table>\n",
       "</div>"
      ],
      "text/plain": [
       "                                                             director  \\\n",
       "title                                                                   \n",
       "Norm of the North: King Sized Adventure         richardfinn,timmaltby   \n",
       "#realityhigh                                          fernandolebrija   \n",
       "Automata                                                   gabeibáñez   \n",
       "Fabrizio Copano: Solo pienso en mi       rodrigotoro,franciscoschultz   \n",
       "Good People                                           henrikrubengenz   \n",
       "\n",
       "                                                                                      cast  \\\n",
       "title                                                                                        \n",
       "Norm of the North: King Sized Adventure            [alanmarriott, andrewtoth, briandobson]   \n",
       "#realityhigh                                  [nestacooper, katewalsh, johnmichaelhiggins]   \n",
       "Automata                                 [antoniobanderas, dylanmcdermott, melaniegriff...   \n",
       "Fabrizio Copano: Solo pienso en mi                                        [fabriziocopano]   \n",
       "Good People                                        [jamesfranco, katehudson, tomwilkinson]   \n",
       "\n",
       "                                                                                 listed_in  \\\n",
       "title                                                                                        \n",
       "Norm of the North: King Sized Adventure              [children & family movies,  comedies]   \n",
       "#realityhigh                                                                    [comedies]   \n",
       "Automata                                 [international movies,  sci-fi & fantasy,  thr...   \n",
       "Fabrizio Copano: Solo pienso en mi                                       [stand-up comedy]   \n",
       "Good People                                               [action & adventure,  thrillers]   \n",
       "\n",
       "                                                                                 Key_words  \\\n",
       "title                                                                                        \n",
       "Norm of the North: King Sized Adventure  [awesome, wedding, polar, bear, king, must, ta...   \n",
       "#realityhigh                             [cross, hairs, longtime, crush, nerdy, high, s...   \n",
       "Automata                                 [discovers, global, conspiracy, robot, killed,...   \n",
       "Fabrizio Copano: Solo pienso en mi       [reflecting, set, sperm, banks, stand, fabrizi...   \n",
       "Good People                              [stash, recently, murdered, apartment, struggl...   \n",
       "\n",
       "                                                                              bag_of_words  \n",
       "title                                                                                       \n",
       "Norm of the North: King Sized Adventure  richardfinn,timmaltby alanmarriott andrewtoth ...  \n",
       "#realityhigh                             fernandolebrija nestacooper katewalsh johnmich...  \n",
       "Automata                                 gabeibáñez antoniobanderas dylanmcdermott mela...  \n",
       "Fabrizio Copano: Solo pienso en mi       rodrigotoro,franciscoschultz fabriziocopano st...  \n",
       "Good People                              henrikrubengenz jamesfranco katehudson tomwilk...  "
      ]
     },
     "execution_count": 72,
     "metadata": {},
     "output_type": "execute_result"
    }
   ],
   "source": [
    "new_df['bag_of_words'] = ''\n",
    "columns = new_df.columns\n",
    "for index, row in new_df.iterrows():\n",
    "    words = ''\n",
    "    for col in columns:\n",
    "        if col != 'director':\n",
    "            words = words + ' '.join(row[col])+ ' '\n",
    "        else:\n",
    "            words = words + row[col]+ ' '\n",
    "    row['bag_of_words'] = words\n",
    "    \n",
    "new_df.head()\n"
   ]
  },
  {
   "cell_type": "code",
   "execution_count": 73,
   "metadata": {},
   "outputs": [
    {
     "name": "stderr",
     "output_type": "stream",
     "text": [
      "C:\\Users\\Tamanna Kawatra\\Anaconda3\\envs\\buan6341_2020\\lib\\site-packages\\pandas\\core\\frame.py:4117: SettingWithCopyWarning: \n",
      "A value is trying to be set on a copy of a slice from a DataFrame\n",
      "\n",
      "See the caveats in the documentation: http://pandas.pydata.org/pandas-docs/stable/user_guide/indexing.html#returning-a-view-versus-a-copy\n",
      "  errors=errors,\n"
     ]
    },
    {
     "data": {
      "text/html": [
       "<div>\n",
       "<style scoped>\n",
       "    .dataframe tbody tr th:only-of-type {\n",
       "        vertical-align: middle;\n",
       "    }\n",
       "\n",
       "    .dataframe tbody tr th {\n",
       "        vertical-align: top;\n",
       "    }\n",
       "\n",
       "    .dataframe thead th {\n",
       "        text-align: right;\n",
       "    }\n",
       "</style>\n",
       "<table border=\"1\" class=\"dataframe\">\n",
       "  <thead>\n",
       "    <tr style=\"text-align: right;\">\n",
       "      <th></th>\n",
       "      <th>bag_of_words</th>\n",
       "    </tr>\n",
       "    <tr>\n",
       "      <th>title</th>\n",
       "      <th></th>\n",
       "    </tr>\n",
       "  </thead>\n",
       "  <tbody>\n",
       "    <tr>\n",
       "      <th>Norm of the North: King Sized Adventure</th>\n",
       "      <td>richardfinn,timmaltby alanmarriott andrewtoth ...</td>\n",
       "    </tr>\n",
       "    <tr>\n",
       "      <th>#realityhigh</th>\n",
       "      <td>fernandolebrija nestacooper katewalsh johnmich...</td>\n",
       "    </tr>\n",
       "    <tr>\n",
       "      <th>Automata</th>\n",
       "      <td>gabeibáñez antoniobanderas dylanmcdermott mela...</td>\n",
       "    </tr>\n",
       "    <tr>\n",
       "      <th>Fabrizio Copano: Solo pienso en mi</th>\n",
       "      <td>rodrigotoro,franciscoschultz fabriziocopano st...</td>\n",
       "    </tr>\n",
       "    <tr>\n",
       "      <th>Good People</th>\n",
       "      <td>henrikrubengenz jamesfranco katehudson tomwilk...</td>\n",
       "    </tr>\n",
       "  </tbody>\n",
       "</table>\n",
       "</div>"
      ],
      "text/plain": [
       "                                                                              bag_of_words\n",
       "title                                                                                     \n",
       "Norm of the North: King Sized Adventure  richardfinn,timmaltby alanmarriott andrewtoth ...\n",
       "#realityhigh                             fernandolebrija nestacooper katewalsh johnmich...\n",
       "Automata                                 gabeibáñez antoniobanderas dylanmcdermott mela...\n",
       "Fabrizio Copano: Solo pienso en mi       rodrigotoro,franciscoschultz fabriziocopano st...\n",
       "Good People                              henrikrubengenz jamesfranco katehudson tomwilk..."
      ]
     },
     "execution_count": 73,
     "metadata": {},
     "output_type": "execute_result"
    }
   ],
   "source": [
    "new_df.drop(columns = [col for col in new_df.columns if col!= 'bag_of_words'], inplace = True)\n",
    "new_df.head()"
   ]
  },
  {
   "cell_type": "code",
   "execution_count": 74,
   "metadata": {
    "scrolled": true
   },
   "outputs": [
    {
     "name": "stdout",
     "output_type": "stream",
     "text": [
      "  (0, 17380)\t1\n",
      "  (0, 20897)\t1\n",
      "  (0, 700)\t1\n",
      "  (0, 1233)\t1\n",
      "  (0, 2979)\t1\n",
      "  (0, 3861)\t1\n",
      "  (0, 7116)\t1\n",
      "  (0, 14166)\t1\n",
      "  (0, 4345)\t1\n",
      "  (0, 1990)\t1\n",
      "  (0, 22247)\t1\n",
      "  (0, 16020)\t1\n",
      "  (0, 2258)\t1\n",
      "  (0, 11520)\t1\n",
      "  (0, 14244)\t1\n",
      "  (0, 20397)\t1\n",
      "  (0, 2051)\t1\n",
      "  (0, 6894)\t1\n",
      "  (0, 1569)\t1\n",
      "  (0, 7389)\t1\n",
      "  (0, 19880)\t1\n",
      "  (0, 1700)\t1\n",
      "  (0, 8278)\t1\n",
      "  (0, 15954)\t1\n",
      "  (1, 4345)\t1\n",
      "  :\t:\n",
      "  (3907, 22271)\t1\n",
      "  (3908, 4345)\t1\n",
      "  (3908, 9676)\t1\n",
      "  (3908, 17727)\t1\n",
      "  (3908, 21523)\t1\n",
      "  (3908, 20973)\t1\n",
      "  (3908, 22677)\t1\n",
      "  (3908, 3026)\t1\n",
      "  (3908, 12147)\t1\n",
      "  (3908, 21389)\t3\n",
      "  (3908, 18995)\t2\n",
      "  (3908, 5570)\t1\n",
      "  (3908, 21377)\t1\n",
      "  (3908, 11878)\t1\n",
      "  (3908, 22816)\t1\n",
      "  (3908, 5575)\t1\n",
      "  (3908, 13447)\t1\n",
      "  (3908, 17127)\t1\n",
      "  (3908, 858)\t1\n",
      "  (3908, 15071)\t1\n",
      "  (3908, 18673)\t1\n",
      "  (3908, 13376)\t1\n",
      "  (3908, 12120)\t1\n",
      "  (3908, 14556)\t1\n",
      "  (3908, 4535)\t1\n",
      "(3909, 22934)\n"
     ]
    },
    {
     "data": {
      "text/plain": [
       "0    Norm of the North: King Sized Adventure\n",
       "1                               #realityhigh\n",
       "2                                   Automata\n",
       "3         Fabrizio Copano: Solo pienso en mi\n",
       "4                                Good People\n",
       "Name: title, dtype: object"
      ]
     },
     "execution_count": 74,
     "metadata": {},
     "output_type": "execute_result"
    }
   ],
   "source": [
    "# instantiating and generating the count matrix\n",
    "count = CountVectorizer()\n",
    "count_matrix = count.fit_transform(new_df['bag_of_words'])\n",
    "print(count_matrix)\n",
    "print(count_matrix.shape)\n",
    "\n",
    "# creating a Series for the movie titles so they are associated to an ordered numerical\n",
    "# list I will use later to match the indexes\n",
    "indices = pd.Series(new_df.index)\n",
    "indices[:5]"
   ]
  },
  {
   "cell_type": "code",
   "execution_count": 75,
   "metadata": {},
   "outputs": [
    {
     "data": {
      "text/plain": [
       "array([[1.        , 0.04454354, 0.04166667, ..., 0.        , 0.        ,\n",
       "        0.03450328],\n",
       "       [0.04454354, 1.        , 0.        , ..., 0.        , 0.03253   ,\n",
       "        0.03688556],\n",
       "       [0.04166667, 0.        , 1.        , ..., 0.03311331, 0.03042903,\n",
       "        0.03450328],\n",
       "       ...,\n",
       "       [0.        , 0.        , 0.03311331, ..., 1.        , 0.31437304,\n",
       "        0.38388595],\n",
       "       [0.        , 0.03253   , 0.03042903, ..., 0.31437304, 1.        ,\n",
       "        0.32756921],\n",
       "       [0.03450328, 0.03688556, 0.03450328, ..., 0.38388595, 0.32756921,\n",
       "        1.        ]])"
      ]
     },
     "execution_count": 75,
     "metadata": {},
     "output_type": "execute_result"
    }
   ],
   "source": [
    "# generating the cosine similarity matrix\n",
    "cosine_sim = cosine_similarity(count_matrix, count_matrix)\n",
    "cosine_sim"
   ]
  },
  {
   "cell_type": "code",
   "execution_count": 76,
   "metadata": {},
   "outputs": [],
   "source": [
    "# function that takes in movie title as input and returns the top 10 recommended movies\n",
    "def recommendations(Title, cosine_sim = cosine_sim):\n",
    "    \n",
    "    recommended_movies = []\n",
    "    \n",
    "    # gettin the index of the movie that matches the title\n",
    "    idx = indices[indices == Title].index[0]\n",
    "\n",
    "    # creating a Series with the similarity scores in descending order\n",
    "    score_series = pd.Series(cosine_sim[idx]).sort_values(ascending = False)\n",
    "\n",
    "    # getting the indexes of the 10 most similar movies\n",
    "    top_10_indexes = list(score_series.iloc[1:11].index)\n",
    "    \n",
    "    # populating the list with the titles of the best 10 matching movies\n",
    "    for i in top_10_indexes:\n",
    "        recommended_movies.append(list(new_df.index)[i])\n",
    "        \n",
    "    return recommended_movies"
   ]
  },
  {
   "cell_type": "code",
   "execution_count": 77,
   "metadata": {},
   "outputs": [
    {
     "data": {
      "text/plain": [
       "['Kidnapping Mr. Heineken',\n",
       " 'Jarhead: Law of Return',\n",
       " 'Hunt to Kill',\n",
       " 'Small Soldiers',\n",
       " 'From Paris with Love',\n",
       " 'Thong Dee Fun Khao',\n",
       " 'Black Site Delta',\n",
       " 'Set Up',\n",
       " 'Kickboxer: Vengeance',\n",
       " 'The Last Boy Scout']"
      ]
     },
     "execution_count": 77,
     "metadata": {},
     "output_type": "execute_result"
    }
   ],
   "source": [
    "recommendations('The Taking of Pelham 123')"
   ]
  },
  {
   "cell_type": "code",
   "execution_count": 83,
   "metadata": {},
   "outputs": [
    {
     "data": {
      "text/plain": [
       "['Loving Annabelle',\n",
       " 'Rang De Basanti',\n",
       " 'Handsome Devil',\n",
       " 'Siddhant',\n",
       " 'Kucch To Hai',\n",
       " 'Dangal',\n",
       " 'Noblemen',\n",
       " 'Raja Hindustani',\n",
       " '3 Idiots',\n",
       " 'Mucize']"
      ]
     },
     "execution_count": 83,
     "metadata": {},
     "output_type": "execute_result"
    }
   ],
   "source": [
    "recommendations('Taare Zameen Par')"
   ]
  },
  {
   "cell_type": "code",
   "execution_count": 79,
   "metadata": {},
   "outputs": [
    {
     "data": {
      "text/plain": [
       "['Rumble in the Bronx',\n",
       " 'Mujhse Shaadi Karogi',\n",
       " 'Rowdy Rathore',\n",
       " 'The Man Who Feels No Pain',\n",
       " 'Asu Mare 2',\n",
       " 'Love on Delivery',\n",
       " 'Superlopez',\n",
       " 'Maza Pati Karodpati',\n",
       " 'Ip Man 3',\n",
       " 'The Five Venoms']"
      ]
     },
     "execution_count": 79,
     "metadata": {},
     "output_type": "execute_result"
    }
   ],
   "source": [
    "recommendations('Scott Pilgrim vs. the World')"
   ]
  },
  {
   "cell_type": "code",
   "execution_count": 80,
   "metadata": {},
   "outputs": [
    {
     "data": {
      "text/plain": [
       "['Azhar',\n",
       " 'Soorma',\n",
       " 'Bollywood Calling',\n",
       " 'Radiopetti',\n",
       " 'Raajneeti',\n",
       " 'The Reconquest',\n",
       " 'The spiral',\n",
       " 'Paheli',\n",
       " 'Theeram',\n",
       " 'Ghulam-E-Musthafa']"
      ]
     },
     "execution_count": 80,
     "metadata": {},
     "output_type": "execute_result"
    }
   ],
   "source": [
    "recommendations('Sanju')"
   ]
  },
  {
   "cell_type": "code",
   "execution_count": 81,
   "metadata": {},
   "outputs": [
    {
     "data": {
      "text/plain": [
       "['Jack Taylor',\n",
       " 'Father Brown',\n",
       " 'Sadqay Tumhare',\n",
       " 'The Fear',\n",
       " 'Camelia la Texana',\n",
       " 'Innocent',\n",
       " 'Reply 1997',\n",
       " 'Bolívar',\n",
       " 'Cheese in the Trap',\n",
       " 'Jamtara - Sabka Number Ayega']"
      ]
     },
     "execution_count": 81,
     "metadata": {},
     "output_type": "execute_result"
    }
   ],
   "source": [
    "recommendations('You')"
   ]
  }
 ],
 "metadata": {
  "kernelspec": {
   "display_name": "Python 3.7(buan6341_2020)",
   "language": "python",
   "name": "buan6341_2020"
  },
  "language_info": {
   "codemirror_mode": {
    "name": "ipython",
    "version": 3
   },
   "file_extension": ".py",
   "mimetype": "text/x-python",
   "name": "python",
   "nbconvert_exporter": "python",
   "pygments_lexer": "ipython3",
   "version": "3.7.6"
  },
  "toc": {
   "base_numbering": 1,
   "nav_menu": {},
   "number_sections": true,
   "sideBar": true,
   "skip_h1_title": false,
   "title_cell": "Table of Contents",
   "title_sidebar": "Contents",
   "toc_cell": true,
   "toc_position": {},
   "toc_section_display": true,
   "toc_window_display": false
  }
 },
 "nbformat": 4,
 "nbformat_minor": 2
}
